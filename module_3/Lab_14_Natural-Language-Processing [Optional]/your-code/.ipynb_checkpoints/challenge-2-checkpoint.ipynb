{
 "cells": [
  {
   "cell_type": "markdown",
   "metadata": {},
   "source": [
    "# Challenge 2: Sentiment Analysis\n",
    "\n",
    "In this challenge we will learn sentiment analysis and practice performing sentiment analysis on Twitter tweets. \n",
    "\n",
    "## Introduction\n",
    "\n",
    "Sentiment analysis is to *systematically identify, extract, quantify, and study affective states and subjective information* based on texts ([reference](https://en.wikipedia.org/wiki/Sentiment_analysis)). In simple words, it's to understand whether a person is happy or unhappy in producing the piece of text. Why we (or rather, companies) care about sentiment in texts? It's because by understanding the sentiments in texts, we will be able to know if our customers are happy or unhappy about our products and services. If they are unhappy, the subsequent action is to figure out what have caused the unhappiness and make improvements.\n",
    "\n",
    "Basic sentiment analysis only understands the *positive* or *negative* (sometimes *neutral* too) polarities of the sentiment. More advanced sentiment analysis will also consider dimensions such as agreement, subjectivity, confidence, irony, and so on. In this challenge we will conduct the basic positive vs negative sentiment analysis based on real Twitter tweets.\n",
    "\n",
    "NLTK comes with a [sentiment analysis package](https://www.nltk.org/api/nltk.sentiment.html). This package is great for dummies to perform sentiment analysis because it requires only the textual data to make predictions. For example:\n",
    "\n",
    "```python\n",
    ">>> from nltk.sentiment.vader import SentimentIntensityAnalyzer\n",
    ">>> txt = \"Ironhack is a Global Tech School ranked num 2 worldwide.  ",
    " ",
    "Our mission is to help people transform their careers and join a thriving community of tech professionals that love what they do.\"\n",
    ">>> analyzer = SentimentIntensityAnalyzer()\n",
    ">>> analyzer.polarity_scores(txt)\n",
    "{'neg': 0.0, 'neu': 0.741, 'pos': 0.259, 'compound': 0.8442}\n",
    "```\n",
    "\n",
    "In this challenge, however, you will not use NLTK's sentiment analysis package because in your Machine Learning training in the past 2 weeks you have learned how to make predictions more accurate than that. The [tweets data](https://www.kaggle.com/kazanova/sentiment140) we will be using today are already coded for the positive/negative sentiment. You will be able to use the Naïve Bayes classifier you learned in the lesson to predict the sentiment of tweets based on the labels."
   ]
  },
  {
   "cell_type": "markdown",
   "metadata": {},
   "source": [
    "## Conducting Sentiment Analysis\n",
    "\n",
    "### Loading and Exploring Data\n",
    "\n",
    "The dataset we'll be using today is located in the lab directory named `Sentiment140.csv.zip`. You need to unzip it into a `.csv` file. Then in the cell below, load and explore the data.\n",
    "\n",
    "*Notes:* \n",
    "\n",
    "* The dataset was downloaded from [Kaggle](https://www.kaggle.com/kazanova/sentiment140). We made a slight change on the original data so that each column has a label.\n",
    "\n",
    "* The dataset is huuuuge (1.6m tweets). When you develop your data analysis codes, you can sample a subset of the data (e.g. 20k records) so that you will save a lot of time when you test your codes."
   ]
  },
  {
   "cell_type": "code",
   "execution_count": 6,
   "metadata": {
    "tags": []
   },
   "outputs": [],
   "source": [
    "import pandas as pd\n",
    "df = pd.read_csv('Sentiment140.csv')"
   ]
  },
  {
   "cell_type": "code",
   "execution_count": 7,
   "metadata": {
    "tags": []
   },
   "outputs": [
    {
     "data": {
      "text/html": [
       "<div>\n",
       "<style scoped>\n",
       "    .dataframe tbody tr th:only-of-type {\n",
       "        vertical-align: middle;\n",
       "    }\n",
       "\n",
       "    .dataframe tbody tr th {\n",
       "        vertical-align: top;\n",
       "    }\n",
       "\n",
       "    .dataframe thead th {\n",
       "        text-align: right;\n",
       "    }\n",
       "</style>\n",
       "<table border=\"1\" class=\"dataframe\">\n",
       "  <thead>\n",
       "    <tr style=\"text-align: right;\">\n",
       "      <th></th>\n",
       "      <th>Unnamed: 0</th>\n",
       "      <th>target</th>\n",
       "      <th>id</th>\n",
       "      <th>date</th>\n",
       "      <th>flag</th>\n",
       "      <th>user</th>\n",
       "      <th>text</th>\n",
       "    </tr>\n",
       "  </thead>\n",
       "  <tbody>\n",
       "    <tr>\n",
       "      <th>0</th>\n",
       "      <td>753159</td>\n",
       "      <td>0</td>\n",
       "      <td>2286791296</td>\n",
       "      <td>Mon Jun 22 16:55:55 PDT 2009</td>\n",
       "      <td>NO_QUERY</td>\n",
       "      <td>iLadySyncere</td>\n",
       "      <td>@oldskool90 whats wrong?</td>\n",
       "    </tr>\n",
       "    <tr>\n",
       "      <th>1</th>\n",
       "      <td>658158</td>\n",
       "      <td>0</td>\n",
       "      <td>2241365222</td>\n",
       "      <td>Fri Jun 19 10:51:43 PDT 2009</td>\n",
       "      <td>NO_QUERY</td>\n",
       "      <td>Servante</td>\n",
       "      <td>Dont want to Go to work!</td>\n",
       "    </tr>\n",
       "    <tr>\n",
       "      <th>2</th>\n",
       "      <td>440909</td>\n",
       "      <td>0</td>\n",
       "      <td>2066865615</td>\n",
       "      <td>Sun Jun 07 11:18:55 PDT 2009</td>\n",
       "      <td>NO_QUERY</td>\n",
       "      <td>Vonnie617</td>\n",
       "      <td>@queizbella awww I miss you too</td>\n",
       "    </tr>\n",
       "    <tr>\n",
       "      <th>3</th>\n",
       "      <td>205082</td>\n",
       "      <td>0</td>\n",
       "      <td>1972784708</td>\n",
       "      <td>Sat May 30 09:52:54 PDT 2009</td>\n",
       "      <td>NO_QUERY</td>\n",
       "      <td>ThomasLierzer</td>\n",
       "      <td>@sueandsteve hahaha not mine</td>\n",
       "    </tr>\n",
       "    <tr>\n",
       "      <th>4</th>\n",
       "      <td>1094102</td>\n",
       "      <td>4</td>\n",
       "      <td>1970117918</td>\n",
       "      <td>Sat May 30 02:31:36 PDT 2009</td>\n",
       "      <td>NO_QUERY</td>\n",
       "      <td>RussellBfan90</td>\n",
       "      <td>@TaylaMe3 that's good to hear-i'm warm too</td>\n",
       "    </tr>\n",
       "  </tbody>\n",
       "</table>\n",
       "</div>"
      ],
      "text/plain": [
       "   Unnamed: 0  target          id                          date      flag  \\\n",
       "0      753159       0  2286791296  Mon Jun 22 16:55:55 PDT 2009  NO_QUERY   \n",
       "1      658158       0  2241365222  Fri Jun 19 10:51:43 PDT 2009  NO_QUERY   \n",
       "2      440909       0  2066865615  Sun Jun 07 11:18:55 PDT 2009  NO_QUERY   \n",
       "3      205082       0  1972784708  Sat May 30 09:52:54 PDT 2009  NO_QUERY   \n",
       "4     1094102       4  1970117918  Sat May 30 02:31:36 PDT 2009  NO_QUERY   \n",
       "\n",
       "            user                                         text  \n",
       "0   iLadySyncere                    @oldskool90 whats wrong?   \n",
       "1       Servante                    Dont want to Go to work!   \n",
       "2      Vonnie617             @queizbella awww I miss you too   \n",
       "3  ThomasLierzer                @sueandsteve hahaha not mine   \n",
       "4  RussellBfan90  @TaylaMe3 that's good to hear-i'm warm too   "
      ]
     },
     "execution_count": 7,
     "metadata": {},
     "output_type": "execute_result"
    }
   ],
   "source": [
    "df.head(5)"
   ]
  },
  {
   "cell_type": "markdown",
   "metadata": {
    "tags": []
   },
   "source": [
    "### Prepare Textual Data for Sentiment Analysis\n",
    "\n",
    "Now, apply the functions you have written in Challenge 1 to your whole data set. These functions include:\n",
    "\n",
    "* `clean_up()`\n",
    "\n",
    "* `tokenize()`\n",
    "\n",
    "* `stem_and_lemmatize()`\n",
    "\n",
    "* `remove_stopwords()`\n",
    "\n",
    "Create a new column called `text_processed` in the dataframe to contain the processed data. At the end, your `text_processed` column should contain lists of word tokens that are cleaned up. Your data should look like below:\n",
    "\n",
    "![Processed Data](data-cleaning-results.png)"
   ]
  },
  {
   "cell_type": "code",
   "execution_count": 23,
   "metadata": {
    "tags": []
   },
   "outputs": [],
   "source": [
    "import re\n",
    "def clean_up(s):\n",
    "    if pd.isnull(s):\n",
    "        return ''\n",
    "    return re.sub(r'[^a-zA-Z\\s]', '', str(s), re.I|re.A).lower().strip()"
   ]
  },
  {
   "cell_type": "code",
   "execution_count": 17,
   "metadata": {
    "tags": []
   },
   "outputs": [],
   "source": [
    "from nltk.tokenize import word_tokenize\n",
    "def tokenize(s):\n",
    "    return word_tokenize(s)"
   ]
  },
  {
   "cell_type": "code",
   "execution_count": 18,
   "metadata": {
    "tags": []
   },
   "outputs": [],
   "source": [
    "def stem_and_lemmatize(l):\n",
    "    lemmatizer = WordNetLemmatizer()\n",
    "    stemmer = PorterStemmer()\n",
    "    return [lemmatizer.lemmatize(stemmer.stem(word)) for word in l]"
   ]
  },
  {
   "cell_type": "code",
   "execution_count": 19,
   "metadata": {
    "tags": []
   },
   "outputs": [],
   "source": [
    "def remove_stopwords(l):\n",
    "    stop_words = set(stopwords.words('english'))\n",
    "    return [word for word in l if word not in stop_words]"
   ]
  },
  {
   "cell_type": "code",
   "execution_count": 24,
   "metadata": {
    "tags": []
   },
   "outputs": [],
   "source": [
    "df = df.drop(columns=[\"Unnamed: 0\"])"
   ]
  },
  {
   "cell_type": "code",
   "execution_count": 25,
   "metadata": {
    "tags": []
   },
   "outputs": [
    {
     "data": {
      "text/html": [
       "<div>\n",
       "<style scoped>\n",
       "    .dataframe tbody tr th:only-of-type {\n",
       "        vertical-align: middle;\n",
       "    }\n",
       "\n",
       "    .dataframe tbody tr th {\n",
       "        vertical-align: top;\n",
       "    }\n",
       "\n",
       "    .dataframe thead th {\n",
       "        text-align: right;\n",
       "    }\n",
       "</style>\n",
       "<table border=\"1\" class=\"dataframe\">\n",
       "  <thead>\n",
       "    <tr style=\"text-align: right;\">\n",
       "      <th></th>\n",
       "      <th>target</th>\n",
       "      <th>id</th>\n",
       "      <th>date</th>\n",
       "      <th>flag</th>\n",
       "      <th>user</th>\n",
       "      <th>text</th>\n",
       "      <th>text_processed</th>\n",
       "    </tr>\n",
       "  </thead>\n",
       "  <tbody>\n",
       "    <tr>\n",
       "      <th>0</th>\n",
       "      <td>0</td>\n",
       "      <td>2286791296</td>\n",
       "      <td>Mon Jun 22 16:55:55 PDT 2009</td>\n",
       "      <td>NO_QUERY</td>\n",
       "      <td>iLadySyncere</td>\n",
       "      <td>@oldskool90 whats wrong?</td>\n",
       "      <td>[oldskool, wrong]</td>\n",
       "    </tr>\n",
       "    <tr>\n",
       "      <th>1</th>\n",
       "      <td>0</td>\n",
       "      <td>2241365222</td>\n",
       "      <td>Fri Jun 19 10:51:43 PDT 2009</td>\n",
       "      <td>NO_QUERY</td>\n",
       "      <td>Servante</td>\n",
       "      <td>Dont want to Go to work!</td>\n",
       "      <td>[dont, want, go, work]</td>\n",
       "    </tr>\n",
       "    <tr>\n",
       "      <th>2</th>\n",
       "      <td>0</td>\n",
       "      <td>2066865615</td>\n",
       "      <td>Sun Jun 07 11:18:55 PDT 2009</td>\n",
       "      <td>NO_QUERY</td>\n",
       "      <td>Vonnie617</td>\n",
       "      <td>@queizbella awww I miss you too</td>\n",
       "      <td>[queizbella, awww, miss]</td>\n",
       "    </tr>\n",
       "    <tr>\n",
       "      <th>3</th>\n",
       "      <td>0</td>\n",
       "      <td>1972784708</td>\n",
       "      <td>Sat May 30 09:52:54 PDT 2009</td>\n",
       "      <td>NO_QUERY</td>\n",
       "      <td>ThomasLierzer</td>\n",
       "      <td>@sueandsteve hahaha not mine</td>\n",
       "      <td>[sueandstev, hahaha, mine]</td>\n",
       "    </tr>\n",
       "    <tr>\n",
       "      <th>4</th>\n",
       "      <td>4</td>\n",
       "      <td>1970117918</td>\n",
       "      <td>Sat May 30 02:31:36 PDT 2009</td>\n",
       "      <td>NO_QUERY</td>\n",
       "      <td>RussellBfan90</td>\n",
       "      <td>@TaylaMe3 that's good to hear-i'm warm too</td>\n",
       "      <td>[taylam, good, hearim, warm]</td>\n",
       "    </tr>\n",
       "    <tr>\n",
       "      <th>...</th>\n",
       "      <td>...</td>\n",
       "      <td>...</td>\n",
       "      <td>...</td>\n",
       "      <td>...</td>\n",
       "      <td>...</td>\n",
       "      <td>...</td>\n",
       "      <td>...</td>\n",
       "    </tr>\n",
       "    <tr>\n",
       "      <th>41997</th>\n",
       "      <td>4</td>\n",
       "      <td>1468147920</td>\n",
       "      <td>Mon Apr 06 23:58:49 PDT 2009</td>\n",
       "      <td>NO_QUERY</td>\n",
       "      <td>triciamartinez</td>\n",
       "      <td>wants to go out. dragonball evolution premiere...</td>\n",
       "      <td>[want, go, dragonbal, evolut, premier, tonight]</td>\n",
       "    </tr>\n",
       "    <tr>\n",
       "      <th>41998</th>\n",
       "      <td>0</td>\n",
       "      <td>1759855718</td>\n",
       "      <td>Sun May 10 20:06:41 PDT 2009</td>\n",
       "      <td>NO_QUERY</td>\n",
       "      <td>ShannonBoler</td>\n",
       "      <td>Finished with dinner but a little upset that o...</td>\n",
       "      <td>[finish, dinner, littl, upset, orlando, lost, ...</td>\n",
       "    </tr>\n",
       "    <tr>\n",
       "      <th>41999</th>\n",
       "      <td>0</td>\n",
       "      <td>2321506351</td>\n",
       "      <td>Wed Jun 24 21:09:10 PDT 2009</td>\n",
       "      <td>NO_QUERY</td>\n",
       "      <td>ohopefull98</td>\n",
       "      <td>cant sleep i am so tired but i just cant fall ...</td>\n",
       "      <td>[cant, sleep, tire, cant, fall, asleep, dont, ...</td>\n",
       "    </tr>\n",
       "    <tr>\n",
       "      <th>42000</th>\n",
       "      <td>0</td>\n",
       "      <td>1836057815</td>\n",
       "      <td>Mon May 18 07:17:18 PDT 2009</td>\n",
       "      <td>NO_QUERY</td>\n",
       "      <td>staceywalston</td>\n",
       "      <td>@995TheX Hey Blando, wish I was going</td>\n",
       "      <td>[thex, hey, blando, wish, wa, go]</td>\n",
       "    </tr>\n",
       "    <tr>\n",
       "      <th>42001</th>\n",
       "      <td>4</td>\n",
       "      <td>218678</td>\n",
       "      <td>NaN</td>\n",
       "      <td>NaN</td>\n",
       "      <td>NaN</td>\n",
       "      <td>NaN</td>\n",
       "      <td>[]</td>\n",
       "    </tr>\n",
       "  </tbody>\n",
       "</table>\n",
       "<p>42002 rows × 7 columns</p>\n",
       "</div>"
      ],
      "text/plain": [
       "       target          id                          date      flag  \\\n",
       "0           0  2286791296  Mon Jun 22 16:55:55 PDT 2009  NO_QUERY   \n",
       "1           0  2241365222  Fri Jun 19 10:51:43 PDT 2009  NO_QUERY   \n",
       "2           0  2066865615  Sun Jun 07 11:18:55 PDT 2009  NO_QUERY   \n",
       "3           0  1972784708  Sat May 30 09:52:54 PDT 2009  NO_QUERY   \n",
       "4           4  1970117918  Sat May 30 02:31:36 PDT 2009  NO_QUERY   \n",
       "...       ...         ...                           ...       ...   \n",
       "41997       4  1468147920  Mon Apr 06 23:58:49 PDT 2009  NO_QUERY   \n",
       "41998       0  1759855718  Sun May 10 20:06:41 PDT 2009  NO_QUERY   \n",
       "41999       0  2321506351  Wed Jun 24 21:09:10 PDT 2009  NO_QUERY   \n",
       "42000       0  1836057815  Mon May 18 07:17:18 PDT 2009  NO_QUERY   \n",
       "42001       4      218678                           NaN       NaN   \n",
       "\n",
       "                 user                                               text  \\\n",
       "0        iLadySyncere                          @oldskool90 whats wrong?    \n",
       "1            Servante                          Dont want to Go to work!    \n",
       "2           Vonnie617                   @queizbella awww I miss you too    \n",
       "3       ThomasLierzer                      @sueandsteve hahaha not mine    \n",
       "4       RussellBfan90        @TaylaMe3 that's good to hear-i'm warm too    \n",
       "...               ...                                                ...   \n",
       "41997  triciamartinez  wants to go out. dragonball evolution premiere...   \n",
       "41998    ShannonBoler  Finished with dinner but a little upset that o...   \n",
       "41999     ohopefull98  cant sleep i am so tired but i just cant fall ...   \n",
       "42000   staceywalston             @995TheX Hey Blando, wish I was going    \n",
       "42001             NaN                                                NaN   \n",
       "\n",
       "                                          text_processed  \n",
       "0                                      [oldskool, wrong]  \n",
       "1                                 [dont, want, go, work]  \n",
       "2                               [queizbella, awww, miss]  \n",
       "3                             [sueandstev, hahaha, mine]  \n",
       "4                           [taylam, good, hearim, warm]  \n",
       "...                                                  ...  \n",
       "41997    [want, go, dragonbal, evolut, premier, tonight]  \n",
       "41998  [finish, dinner, littl, upset, orlando, lost, ...  \n",
       "41999  [cant, sleep, tire, cant, fall, asleep, dont, ...  \n",
       "42000                  [thex, hey, blando, wish, wa, go]  \n",
       "42001                                                 []  \n",
       "\n",
       "[42002 rows x 7 columns]"
      ]
     },
     "execution_count": 25,
     "metadata": {},
     "output_type": "execute_result"
    }
   ],
   "source": [
    "df['text_processed'] = df['text'].apply(clean_up).apply(tokenize).apply(stem_and_lemmatize).apply(remove_stopwords)\n",
    "df"
   ]
  },
  {
   "cell_type": "markdown",
   "metadata": {},
   "source": [
    "### Creating Bag of Words\n",
    "\n",
    "The purpose of this step is to create a [bag of words](https://en.wikipedia.org/wiki/Bag-of-words_model) from the processed data. The bag of words contains all the unique words in your whole text body (a.k.a. *corpus*) with the number of occurrence of each word. It will allow you to understand which words are the most important features across the whole corpus.\n",
    "\n",
    "Also, you can imagine you will have a massive set of words. The less important words (i.e. those of very low number of occurrence) do not contribute much to the sentiment. Therefore, you only need to use the most important words to build your feature set in the next step. In our case, we will use the top 5,000 words with the highest frequency to build the features.\n",
    "\n",
    "In the cell below, combine all the words in `text_processed` and calculate the frequency distribution of all words. A convenient library to calculate the term frequency distribution is NLTK's `FreqDist` class ([documentation](https://www.nltk.org/api/nltk.html#module-nltk.probability)). Then select the top 5,000 words from the frequency distribution."
   ]
  },
  {
   "cell_type": "code",
   "execution_count": 28,
   "metadata": {
    "tags": []
   },
   "outputs": [],
   "source": [
    "# your code here\n",
    "import nltk\n",
    "from nltk import FreqDist\n",
    "\n",
    "all_words = [word for words_list in df['text_processed'] for word in words_list]\n",
    "freq_dist = FreqDist(all_words)\n",
    "top_words = freq_dist.most_common(5000)"
   ]
  },
  {
   "cell_type": "markdown",
   "metadata": {},
   "source": [
    "### Building Features\n",
    "\n",
    "Now let's build the features. Using the top 5,000 words, create a 2-dimensional matrix to record whether each of those words is contained in each document (tweet). Then you also have an output column to indicate whether the sentiment in each tweet is positive. For example, assuming your bag of words has 5 items (`['one', 'two', 'three', 'four', 'five']`) out of 4 documents (`['A', 'B', 'C', 'D']`), your feature set is essentially:\n",
    "\n",
    "| Doc | one | two | three | four | five | is_positive |\n",
    "|---|---|---|---|---|---|---|\n",
    "| A | True | False | False | True | False | True |\n",
    "| B | False | False | False | True | True | False |\n",
    "| C | False | True | False | False | False | True |\n",
    "| D | True | False | False | False | True | False|\n",
    "\n",
    "However, because the `nltk.NaiveBayesClassifier.train` class we will use in the next step does not work with Pandas dataframe, the structure of your feature set should be converted to the Python list looking like below:\n",
    "\n",
    "```python\n",
    "[\n",
    "\t({\n",
    "\t\t'one': True,\n",
    "\t\t'two': False,\n",
    "\t\t'three': False,\n",
    "\t\t'four': True,\n",
    "\t\t'five': False\n",
    "\t}, True),\n",
    "\t({\n",
    "\t\t'one': False,\n",
    "\t\t'two': False,\n",
    "\t\t'three': False,\n",
    "\t\t'four': True,\n",
    "\t\t'five': True\n",
    "\t}, False),\n",
    "\t({\n",
    "\t\t'one': False,\n",
    "\t\t'two': True,\n",
    "\t\t'three': False,\n",
    "\t\t'four': False,\n",
    "\t\t'five': False\n",
    "\t}, True),\n",
    "\t({\n",
    "\t\t'one': True,\n",
    "\t\t'two': False,\n",
    "\t\t'three': False,\n",
    "\t\t'four': False,\n",
    "\t\t'five': True\n",
    "\t}, False)\n",
    "]\n",
    "```\n",
    "\n",
    "To help you in this step, watch the [following video](https://www.youtube.com/watch?v=-vVskDsHcVc) to learn how to build the feature set with Python and NLTK. The source code in this video can be found [here](https://pythonprogramming.net/words-as-features-nltk-tutorial/)."
   ]
  },
  {
   "cell_type": "markdown",
   "metadata": {},
   "source": [
    "[![Building Features](building-features.jpg)](https://www.youtube.com/watch?v=-vVskDsHcVc)"
   ]
  },
  {
   "cell_type": "code",
   "execution_count": 30,
   "metadata": {
    "tags": []
   },
   "outputs": [
    {
     "data": {
      "text/html": [
       "<div>\n",
       "<style scoped>\n",
       "    .dataframe tbody tr th:only-of-type {\n",
       "        vertical-align: middle;\n",
       "    }\n",
       "\n",
       "    .dataframe tbody tr th {\n",
       "        vertical-align: top;\n",
       "    }\n",
       "\n",
       "    .dataframe thead th {\n",
       "        text-align: right;\n",
       "    }\n",
       "</style>\n",
       "<table border=\"1\" class=\"dataframe\">\n",
       "  <thead>\n",
       "    <tr style=\"text-align: right;\">\n",
       "      <th></th>\n",
       "      <th>Doc</th>\n",
       "      <th>one</th>\n",
       "      <th>two</th>\n",
       "      <th>three</th>\n",
       "      <th>four</th>\n",
       "      <th>five</th>\n",
       "      <th>is_positive</th>\n",
       "    </tr>\n",
       "  </thead>\n",
       "  <tbody>\n",
       "    <tr>\n",
       "      <th>0</th>\n",
       "      <td>A</td>\n",
       "      <td>True</td>\n",
       "      <td>False</td>\n",
       "      <td>False</td>\n",
       "      <td>True</td>\n",
       "      <td>False</td>\n",
       "      <td>True</td>\n",
       "    </tr>\n",
       "    <tr>\n",
       "      <th>1</th>\n",
       "      <td>B</td>\n",
       "      <td>False</td>\n",
       "      <td>False</td>\n",
       "      <td>False</td>\n",
       "      <td>True</td>\n",
       "      <td>False</td>\n",
       "      <td>False</td>\n",
       "    </tr>\n",
       "    <tr>\n",
       "      <th>2</th>\n",
       "      <td>C</td>\n",
       "      <td>False</td>\n",
       "      <td>True</td>\n",
       "      <td>False</td>\n",
       "      <td>False</td>\n",
       "      <td>False</td>\n",
       "      <td>True</td>\n",
       "    </tr>\n",
       "    <tr>\n",
       "      <th>3</th>\n",
       "      <td>D</td>\n",
       "      <td>True</td>\n",
       "      <td>False</td>\n",
       "      <td>False</td>\n",
       "      <td>False</td>\n",
       "      <td>True</td>\n",
       "      <td>False</td>\n",
       "    </tr>\n",
       "  </tbody>\n",
       "</table>\n",
       "</div>"
      ],
      "text/plain": [
       "  Doc    one    two  three   four   five  is_positive\n",
       "0   A   True  False  False   True  False         True\n",
       "1   B  False  False  False   True  False        False\n",
       "2   C  False   True  False  False  False         True\n",
       "3   D   True  False  False  False   True        False"
      ]
     },
     "execution_count": 30,
     "metadata": {},
     "output_type": "execute_result"
    }
   ],
   "source": [
    "# your code here\n",
    "features_df = pd.DataFrame({\n",
    "    'Doc': ['A', 'B', 'C', 'D'],\n",
    "    'one': [True, False, False, True],\n",
    "    'two': [False, False, True, False],\n",
    "    'three': [False, False, False, False],\n",
    "    'four': [True, True, False, False],\n",
    "    'five': [False, False, False, True],\n",
    "    'is_positive': [True, False, True, False]\n",
    "})\n",
    "\n",
    "features_df"
   ]
  },
  {
   "cell_type": "code",
   "execution_count": 32,
   "metadata": {
    "tags": []
   },
   "outputs": [
    {
     "name": "stdout",
     "output_type": "stream",
     "text": [
      "[({'one': True, 'two': False, 'three': False, 'four': True, 'five': False}, True), ({'one': False, 'two': False, 'three': False, 'four': True, 'five': False}, False), ({'one': False, 'two': True, 'three': False, 'four': False, 'five': False}, True), ({'one': True, 'two': False, 'three': False, 'four': False, 'five': True}, False)]\n"
     ]
    }
   ],
   "source": [
    "def convert_to_feature_set(data_frame):\n",
    "    feature_set = []\n",
    "    for _, row in data_frame.iterrows():\n",
    "        features = {column: row[column] for column in data_frame.columns if column not in ['Doc', 'is_positive']}\n",
    "        feature_set.append((features, row['is_positive']))\n",
    "    return feature_set\n",
    "\n",
    "resulting_feature_set = convert_to_feature_set(features_df)\n",
    "print(resulting_feature_set)"
   ]
  },
  {
   "cell_type": "markdown",
   "metadata": {},
   "source": [
    "### Building and Traininng Naive Bayes Model\n",
    "\n",
    "In this step you will split your feature set into a training and a test set. Then you will create a Bayes classifier instance using `nltk.NaiveBayesClassifier.train` ([example](https://www.nltk.org/book/ch06.html)) to train with the training dataset.\n",
    "\n",
    "After training the model, call `classifier.show_most_informative_features()` to inspect the most important features. The output will look like:\n",
    "\n",
    "```\n",
    "Most Informative Features\n",
    "\t    snow = True            False : True   =     34.3 : 1.0\n",
    "\t  easter = True            False : True   =     26.2 : 1.0\n",
    "\t headach = True            False : True   =     20.9 : 1.0\n",
    "\t    argh = True            False : True   =     17.6 : 1.0\n",
    "\tunfortun = True            False : True   =     16.9 : 1.0\n",
    "\t    jona = True             True : False  =     16.2 : 1.0\n",
    "\t     ach = True            False : True   =     14.9 : 1.0\n",
    "\t     sad = True            False : True   =     13.0 : 1.0\n",
    "\t  parent = True            False : True   =     12.9 : 1.0\n",
    "\t  spring = True            False : True   =     12.7 : 1.0\n",
    "```\n",
    "\n",
    "The [following video](https://www.youtube.com/watch?v=rISOsUaTrO4) will help you complete this step. The source code in this video can be found [here](https://pythonprogramming.net/naive-bayes-classifier-nltk-tutorial/)."
   ]
  },
  {
   "cell_type": "markdown",
   "metadata": {},
   "source": [
    "[![Building and Training NB](nb-model-building.jpg)](https://www.youtube.com/watch?v=rISOsUaTrO4)"
   ]
  },
  {
   "cell_type": "code",
   "execution_count": 33,
   "metadata": {
    "tags": []
   },
   "outputs": [
    {
     "name": "stdout",
     "output_type": "stream",
     "text": [
      "Most Informative Features\n",
      "                    four = True             True : False  =      1.5 : 1.0\n",
      "                     one = True             True : False  =      1.5 : 1.0\n",
      "                   three = False           False : True   =      1.0 : 1.0\n",
      "                     two = False           False : True   =      1.0 : 1.0\n"
     ]
    }
   ],
   "source": [
    "# your code here\n",
    "import nltk\n",
    "import random\n",
    "\n",
    "feature_set = [\n",
    "    ({'one': True, 'two': False, 'three': False, 'four': True, 'five': False}, True),\n",
    "    ({'one': False, 'two': False, 'three': False, 'four': True, 'five': True}, False),\n",
    "    ({'one': False, 'two': True, 'three': False, 'four': False, 'five': False}, True),\n",
    "    ({'one': True, 'two': False, 'three': False, 'four': False, 'five': True}, False)\n",
    "]\n",
    "\n",
    "random.shuffle(feature_set)\n",
    "train_set = feature_set[:int(0.8 * len(feature_set))]\n",
    "test_set = feature_set[int(0.8 * len(feature_set)):]\n",
    "\n",
    "classifier = nltk.NaiveBayesClassifier.train(train_set)\n",
    "classifier.show_most_informative_features()"
   ]
  },
  {
   "cell_type": "markdown",
   "metadata": {},
   "source": [
    "### Testing Naive Bayes Model\n",
    "\n",
    "Now we'll test our classifier with the test dataset. This is done by calling `nltk.classify.accuracy(classifier, test)`.\n",
    "\n",
    "As mentioned in one of the tutorial videos, a Naive Bayes model is considered OK if your accuracy score is over 0.6. If your accuracy score is over 0.7, you've done a great job!"
   ]
  },
  {
   "cell_type": "code",
   "execution_count": 36,
   "metadata": {
    "tags": []
   },
   "outputs": [
    {
     "name": "stdout",
     "output_type": "stream",
     "text": [
      "Accuracy: 1.0\n"
     ]
    }
   ],
   "source": [
    "classifier = nltk.NaiveBayesClassifier.train(train_set)\n",
    "accuracy = nltk.classify.accuracy(classifier, test_set)\n",
    "print(\"Accuracy:\", accuracy)"
   ]
  },
  {
   "cell_type": "markdown",
   "metadata": {},
   "source": [
    "## Bonus Question 1: Improve Model Performance\n",
    "\n",
    "If you are still not exhausted so far and want to dig deeper, try to improve your classifier performance. There are many aspects you can dig into, for example:\n",
    "\n",
    "* Improve stemming and lemmatization. Inspect your bag of words and the most important features. Are there any words you should furuther remove from analysis? You can append these words to further remove to the stop words list.\n",
    "\n",
    "* Remember we only used the top 5,000 features to build model? Try using different numbers of top features. The bottom line is to use as few features as you can without compromising your model performance. The fewer features you select into your model, the faster your model is trained. Then you can use a larger sample size to improve your model accuracy score."
   ]
  },
  {
   "cell_type": "code",
   "execution_count": null,
   "metadata": {},
   "outputs": [],
   "source": [
    "# your code here"
   ]
  },
  {
   "cell_type": "markdown",
   "metadata": {},
   "source": [
    "## Bonus Question 2: Machine Learning Pipeline\n",
    "\n",
    "In a new Jupyter Notebook, combine all your codes into a function (or a class). Your new function will execute the complete machine learning pipeline job by receiving the dataset location and output the classifier. This will allow you to use your function to predict the sentiment of any tweet in real time. "
   ]
  },
  {
   "cell_type": "code",
   "execution_count": null,
   "metadata": {},
   "outputs": [],
   "source": [
    "# your code here"
   ]
  },
  {
   "cell_type": "markdown",
   "metadata": {},
   "source": [
    "## Bonus Question 3: Apache Spark\n",
    "\n",
    "If you have completed the Apache Spark advanced topic lab, what you can do is to migrate your pipeline from local to a Databricks Notebook. Share your notebook with your instructor and classmates to show off your achievements!"
   ]
  },
  {
   "cell_type": "code",
   "execution_count": null,
   "metadata": {},
   "outputs": [],
   "source": [
    "# your code here"
   ]
  }
 ],
 "metadata": {
  "kernelspec": {
   "display_name": "Python 3 (ipykernel)",
   "language": "python",
   "name": "python3"
  },
  "language_info": {
   "codemirror_mode": {
    "name": "ipython",
    "version": 3
   },
   "file_extension": ".py",
   "mimetype": "text/x-python",
   "name": "python",
   "nbconvert_exporter": "python",
   "pygments_lexer": "ipython3",
   "version": "3.11.4"
  }
 },
 "nbformat": 4,
 "nbformat_minor": 4
}
